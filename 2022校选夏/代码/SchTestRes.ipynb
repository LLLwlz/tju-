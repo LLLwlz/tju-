{
 "cells": [
  {
   "cell_type": "code",
   "execution_count": 17,
   "metadata": {
    "pycharm": {
     "name": "#%%\n"
    }
   },
   "outputs": [],
   "source": [
    "# 导入所需的库\n",
    "# 在此使用Xgboost RandomForest DecisionTree进行分析\n",
    "import numpy as np\n",
    "import pandas as pd\n",
    "import pylab as plt \n",
    "from xgboost import XGBRegressor\n",
    "from sklearn.model_selection import train_test_split\n",
    "from sklearn.metrics import accuracy_score \n",
    "from sklearn.ensemble import RandomForestRegressor\n",
    "from sklearn.tree import DecisionTreeRegressor\n",
    "from sklearn.metrics import mean_squared_error\n",
    "from SALib.sample import saltelli \n",
    "from SALib.analyze import sobol\n",
    "from SALib.plotting.bar import plot as barplot\n",
    "from sklearn.metrics import confusion_matrix\n",
    "import seaborn as sns\n",
    "plt.rcParams['font.sans-serif']=['SimHei'] #显示中文标签"
   ]
  },
  {
   "cell_type": "code",
   "execution_count": 18,
   "metadata": {
    "pycharm": {
     "name": "#%%\n"
    }
   },
   "outputs": [],
   "source": [
    "# 数据处理\n",
    "temperature = pd.read_excel(\"C:\\MathModel\\校选\\附件1.xlsx\", sheet_name=\"温度(temperature)\")\n",
    "temperature.columns = ['Time', 'Temperature of system 1', 'Temperature of system 2']\n",
    "temperature['Data'] = pd.to_datetime(temperature['Time'])\n",
    "temperature['Data'] = pd.to_datetime(temperature['Data']).dt.normalize()\n",
    "quality = pd.read_excel(\"C:\\MathModel\\校选\\附件1.xlsx\", sheet_name=\"产品质量(quality of the products)\")\n",
    "quality.columns = ['Time', 'Index A', 'Index B', 'Index C', 'Index D']\n",
    "parameter = pd.read_excel(\"C:\\MathModel\\校选\\附件1.xlsx\", sheet_name=\"原矿参数(mineral parameter)\")\n",
    "parameter.columns = ['Time', 'Mineral parameter 1', 'Mineral parameter 2', 'Mineral parameter 3', 'Mineral parameter 4']\n",
    "temp_data = pd.merge(temperature, parameter, left_on='Data', right_on='Time')\n",
    "quality['data'] = pd.to_datetime(quality['Time']) - pd.Timedelta(hours = 2)\n",
    "datas = pd.merge(temp_data, quality, left_on='Time_x', right_on='data')"
   ]
  },
  {
   "cell_type": "code",
   "execution_count": 19,
   "metadata": {
    "pycharm": {
     "name": "#%%\n"
    }
   },
   "outputs": [],
   "source": [
    "# 第一问预测标签ABCD\n",
    "x = np.array([datas['Temperature of system 1'], datas['Temperature of system 2'],\n",
    "            datas['Mineral parameter 1'], datas['Mineral parameter 2'], \n",
    "            datas['Mineral parameter 3'], datas['Mineral parameter 4']])\n",
    "yA = np.array(datas['Index A'])\n",
    "yB = np.array(datas['Index B'])\n",
    "yC = np.array(datas['Index C'])\n",
    "yD = np.array(datas['Index D'])"
   ]
  },
  {
   "cell_type": "code",
   "execution_count": 20,
   "metadata": {
    "pycharm": {
     "name": "#%%\n"
    }
   },
   "outputs": [],
   "source": [
    "# 第二问预测温度\n",
    "x = np.array([datas['Index A'], datas['Index B'],\n",
    "            datas['Index C'], datas['Index D'],\n",
    "            datas['Mineral parameter 1'], datas['Mineral parameter 2'],\n",
    "            datas['Mineral parameter 3'], datas['Mineral parameter 4']])\n",
    "y_T1 = np.array(datas['Temperature of system 1'])\n",
    "y_T2 = np.array(datas['Temperature of system 2'])"
   ]
  },
  {
   "cell_type": "code",
   "execution_count": 21,
   "metadata": {
    "pycharm": {
     "name": "#%%\n"
    }
   },
   "outputs": [],
   "source": [
    "# 划分训练集和测试集\n",
    "# 创建训练集和测试集\n",
    "seed = 10\n",
    "test_size = 0.1\n",
    "x_train, x_test, y_train, y_test = train_test_split(x.T, y_T1, test_size=test_size, random_state=seed)"
   ]
  },
  {
   "cell_type": "code",
   "execution_count": 22,
   "metadata": {
    "pycharm": {
     "name": "#%%\n"
    }
   },
   "outputs": [
    {
     "name": "stdout",
     "output_type": "stream",
     "text": [
      "Xgboost模型均方误差: 30225.67697797449\n",
      "Xgboost预测评价: 0.6677885579744027\n"
     ]
    }
   ],
   "source": [
    "# 进行模型的创建和训练\n",
    "# xgboost模型\n",
    "model_xgb = XGBRegressor()\n",
    "model_xgb.fit(x_train, y_train)\n",
    "y_pred_xgb = model_xgb.predict(x_test)\n",
    "print(\"Xgboost模型均方误差:\", mean_squared_error(y_true=y_test, y_pred=y_pred_xgb))\n",
    "print(\"Xgboost预测评价:\", model_xgb.score(X=x_test, y=y_test))"
   ]
  },
  {
   "cell_type": "code",
   "execution_count": 23,
   "metadata": {
    "pycharm": {
     "name": "#%%\n"
    }
   },
   "outputs": [
    {
     "name": "stdout",
     "output_type": "stream",
     "text": [
      "RandomForest模型均方误差: 23731.59537234543\n",
      "RandomForest预测评价: 0.7391652294186865\n"
     ]
    }
   ],
   "source": [
    "# 随机森林模型\n",
    "model_forest = RandomForestRegressor()\n",
    "model_forest.fit(x_train, y_train)\n",
    "y_pred_forest = model_forest.predict(x_test)\n",
    "print(\"RandomForest模型均方误差:\", mean_squared_error(y_true=y_test, y_pred=y_pred_forest))\n",
    "print(\"RandomForest预测评价:\", model_forest.score(X=x_test, y=y_test))"
   ]
  },
  {
   "cell_type": "code",
   "execution_count": 24,
   "metadata": {
    "pycharm": {
     "name": "#%%\n"
    }
   },
   "outputs": [
    {
     "name": "stdout",
     "output_type": "stream",
     "text": [
      "DecisionTree模型均方误差: 15478.624783333327\n",
      "DecisionTree预测评价: 0.8298739094051912\n"
     ]
    }
   ],
   "source": [
    "# DecisionTree模型\n",
    "model_tree = DecisionTreeRegressor()\n",
    "model_tree.fit(x_train, y_train)\n",
    "y_pred_tree = model_tree.predict(x_test)\n",
    "print(\"DecisionTree模型均方误差:\", mean_squared_error(y_true=y_test, y_pred=y_pred_tree))\n",
    "print(\"DecisionTree预测评价:\", model_tree.score(X=x_test, y=y_test))"
   ]
  },
  {
   "cell_type": "code",
   "execution_count": 25,
   "metadata": {
    "pycharm": {
     "name": "#%%\n"
    }
   },
   "outputs": [
    {
     "data": {
      "text/plain": [
       "[]"
      ]
     },
     "execution_count": 25,
     "metadata": {},
     "output_type": "execute_result"
    },
    {
     "data": {
      "image/png": "[encoded data removed]",
      "text/plain": [
       "<Figure size 432x288 with 1 Axes>"
      ]
     },
     "metadata": {
      "needs_background": "light"
     },
     "output_type": "display_data"
    }
   ],
   "source": [
    "# 敏感度分析\n",
    "problem = {\n",
    "        'num_vars':8,\n",
    "        'names':['指标A', '指标B', '指标C', '指标D',\n",
    "                '原矿参数 1', '原矿参数 2', \n",
    "                '原矿参数 3', '原矿参数 4'],\n",
    "        'bounds':[[70.00, 80.00], [20.00, 30.00], \n",
    "                [10.00, 20.00], [10.00, 20.00],\n",
    "                [50.00, 60.00], [100.00, 110.00],\n",
    "                [40.00, 50.00], [20.00, 30.00]]\n",
    "}\n",
    "param_values = saltelli.sample(problem, 1024)\n",
    "y_out = model_forest.predict(param_values)\n",
    "Si = sobol.analyze(problem, y_out)\n",
    "Si_df = Si.to_df()\n",
    "barplot(Si_df[1])\n",
    "plt.title('RandomForest 敏感度分析')\n",
    "plt.plot()"
   ]
  },
  {
   "cell_type": "code",
   "execution_count": 4,
   "metadata": {
    "pycharm": {
     "name": "#%%\n"
    }
   },
   "outputs": [],
   "source": [
    "# 关于附录二\n",
    "# 数据导入\n",
    "temperature = pd.read_excel(\"C:\\MathModel\\校选\\附件2.xlsx\", sheet_name=\"温度(temperature)\")\n",
    "temperature.columns = ['Time', 'Temperature of system 1', 'Temperature of system 2']\n",
    "temperature['Date'] = temperature['Time'].dt.normalize()\n",
    "quality = pd.read_excel(\"C:\\MathModel\\校选\\附件2.xlsx\", sheet_name=\"产品质量(quality of the products)\")\n",
    "quality.columns = ['Time', 'Index A', 'Index B', 'Index C', 'Index D']\n",
    "mineral = pd.read_excel(\"C:\\MathModel\\校选\\附件2.xlsx\", sheet_name=\"原矿参数(mineral parameter)\")\n",
    "mineral.columns = ['Time', 'Mineral parameter 1', 'Mineral parameter 2', 'Mineral parameter 3', 'Mineral parameter 4']\n",
    "process = pd.read_excel(\"C:\\MathModel\\校选\\附件2.xlsx\", sheet_name=\"过程数据(process parameter)\")\n",
    "process.columns = ['Time', 'Process parameter 1', 'Process parameter 2', 'Process parameter 3', 'Process parameter 4']"
   ]
  },
  {
   "cell_type": "code",
   "execution_count": 5,
   "metadata": {
    "pycharm": {
     "name": "#%%\n"
    }
   },
   "outputs": [],
   "source": [
    "# 数据处理\n",
    "temp1_data = pd.merge(temperature, mineral, left_on='Date', right_on='Time')\n",
    "quality['date'] = pd.to_datetime(quality['Time']) - pd.Timedelta(hours = 2)\n",
    "temp2_data = pd.merge(temp1_data, quality, left_on='Time_x', right_on='date')\n",
    "# pd.merge_asof(temp2_data, process, left_on='Time_x', right_on='Time', suffixes=('_1', '_2'), direction='backward')\n",
    "res1 = pd.merge_asof(temp2_data, process, left_on='Time_x', right_on='Time', suffixes=('_1', '_2'))\n",
    "res_ = res1.dropna()"
   ]
  },
  {
   "cell_type": "code",
   "execution_count": 6,
   "metadata": {
    "pycharm": {
     "name": "#%%\n"
    }
   },
   "outputs": [
    {
     "data": {
      "text/html": [
       "<div>\n",
       "<style scoped>\n",
       "    .dataframe tbody tr th:only-of-type {\n",
       "        vertical-align: middle;\n",
       "    }\n",
       "\n",
       "    .dataframe tbody tr th {\n",
       "        vertical-align: top;\n",
       "    }\n",
       "\n",
       "    .dataframe thead th {\n",
       "        text-align: right;\n",
       "    }\n",
       "</style>\n",
       "<table border=\"1\" class=\"dataframe\">\n",
       "  <thead>\n",
       "    <tr style=\"text-align: right;\">\n",
       "      <th></th>\n",
       "      <th>Time_x</th>\n",
       "      <th>Temperature of system 1</th>\n",
       "      <th>Temperature of system 2</th>\n",
       "      <th>Date</th>\n",
       "      <th>Time_y</th>\n",
       "      <th>Mineral parameter 1</th>\n",
       "      <th>Mineral parameter 2</th>\n",
       "      <th>Mineral parameter 3</th>\n",
       "      <th>Mineral parameter 4</th>\n",
       "      <th>Time_1</th>\n",
       "      <th>...</th>\n",
       "      <th>Index B</th>\n",
       "      <th>Index C</th>\n",
       "      <th>Index D</th>\n",
       "      <th>date</th>\n",
       "      <th>Time_2</th>\n",
       "      <th>Process parameter 1</th>\n",
       "      <th>Process parameter 2</th>\n",
       "      <th>Process parameter 3</th>\n",
       "      <th>Process parameter 4</th>\n",
       "      <th>Passrate</th>\n",
       "    </tr>\n",
       "  </thead>\n",
       "  <tbody>\n",
       "    <tr>\n",
       "      <th>0</th>\n",
       "      <td>2022-01-25 02:50:00</td>\n",
       "      <td>1273.86</td>\n",
       "      <td>938.16</td>\n",
       "      <td>2022-01-25</td>\n",
       "      <td>2022-01-25</td>\n",
       "      <td>55.26</td>\n",
       "      <td>108.03</td>\n",
       "      <td>43.29</td>\n",
       "      <td>20.92</td>\n",
       "      <td>2022-01-25 04:50:00</td>\n",
       "      <td>...</td>\n",
       "      <td>21.42</td>\n",
       "      <td>10.68</td>\n",
       "      <td>17.63</td>\n",
       "      <td>2022-01-25 02:50:00</td>\n",
       "      <td>2022-01-25 02:30:11</td>\n",
       "      <td>1.25</td>\n",
       "      <td>3.09</td>\n",
       "      <td>226.16</td>\n",
       "      <td>181.23</td>\n",
       "      <td>0.227273</td>\n",
       "    </tr>\n",
       "    <tr>\n",
       "      <th>1</th>\n",
       "      <td>2022-01-25 03:50:00</td>\n",
       "      <td>1273.51</td>\n",
       "      <td>937.49</td>\n",
       "      <td>2022-01-25</td>\n",
       "      <td>2022-01-25</td>\n",
       "      <td>55.26</td>\n",
       "      <td>108.03</td>\n",
       "      <td>43.29</td>\n",
       "      <td>20.92</td>\n",
       "      <td>2022-01-25 05:50:00</td>\n",
       "      <td>...</td>\n",
       "      <td>21.20</td>\n",
       "      <td>10.16</td>\n",
       "      <td>16.92</td>\n",
       "      <td>2022-01-25 03:50:00</td>\n",
       "      <td>2022-01-25 02:30:11</td>\n",
       "      <td>1.25</td>\n",
       "      <td>3.09</td>\n",
       "      <td>226.16</td>\n",
       "      <td>181.23</td>\n",
       "      <td>0.227273</td>\n",
       "    </tr>\n",
       "    <tr>\n",
       "      <th>2</th>\n",
       "      <td>2022-01-25 04:50:00</td>\n",
       "      <td>1272.84</td>\n",
       "      <td>936.67</td>\n",
       "      <td>2022-01-25</td>\n",
       "      <td>2022-01-25</td>\n",
       "      <td>55.26</td>\n",
       "      <td>108.03</td>\n",
       "      <td>43.29</td>\n",
       "      <td>20.92</td>\n",
       "      <td>2022-01-25 06:50:00</td>\n",
       "      <td>...</td>\n",
       "      <td>20.75</td>\n",
       "      <td>10.16</td>\n",
       "      <td>15.75</td>\n",
       "      <td>2022-01-25 04:50:00</td>\n",
       "      <td>2022-01-25 02:30:11</td>\n",
       "      <td>1.25</td>\n",
       "      <td>3.09</td>\n",
       "      <td>226.16</td>\n",
       "      <td>181.23</td>\n",
       "      <td>0.227273</td>\n",
       "    </tr>\n",
       "    <tr>\n",
       "      <th>3</th>\n",
       "      <td>2022-01-25 05:50:00</td>\n",
       "      <td>1404.50</td>\n",
       "      <td>959.90</td>\n",
       "      <td>2022-01-25</td>\n",
       "      <td>2022-01-25</td>\n",
       "      <td>55.26</td>\n",
       "      <td>108.03</td>\n",
       "      <td>43.29</td>\n",
       "      <td>20.92</td>\n",
       "      <td>2022-01-25 07:50:00</td>\n",
       "      <td>...</td>\n",
       "      <td>23.30</td>\n",
       "      <td>11.55</td>\n",
       "      <td>15.84</td>\n",
       "      <td>2022-01-25 05:50:00</td>\n",
       "      <td>2022-01-25 05:30:13</td>\n",
       "      <td>1.25</td>\n",
       "      <td>3.09</td>\n",
       "      <td>242.44</td>\n",
       "      <td>164.45</td>\n",
       "      <td>0.227273</td>\n",
       "    </tr>\n",
       "    <tr>\n",
       "      <th>4</th>\n",
       "      <td>2022-01-25 06:50:00</td>\n",
       "      <td>1406.01</td>\n",
       "      <td>960.29</td>\n",
       "      <td>2022-01-25</td>\n",
       "      <td>2022-01-25</td>\n",
       "      <td>55.26</td>\n",
       "      <td>108.03</td>\n",
       "      <td>43.29</td>\n",
       "      <td>20.92</td>\n",
       "      <td>2022-01-25 08:50:00</td>\n",
       "      <td>...</td>\n",
       "      <td>23.48</td>\n",
       "      <td>11.89</td>\n",
       "      <td>14.91</td>\n",
       "      <td>2022-01-25 06:50:00</td>\n",
       "      <td>2022-01-25 05:30:13</td>\n",
       "      <td>1.25</td>\n",
       "      <td>3.09</td>\n",
       "      <td>242.44</td>\n",
       "      <td>164.45</td>\n",
       "      <td>0.227273</td>\n",
       "    </tr>\n",
       "    <tr>\n",
       "      <th>...</th>\n",
       "      <td>...</td>\n",
       "      <td>...</td>\n",
       "      <td>...</td>\n",
       "      <td>...</td>\n",
       "      <td>...</td>\n",
       "      <td>...</td>\n",
       "      <td>...</td>\n",
       "      <td>...</td>\n",
       "      <td>...</td>\n",
       "      <td>...</td>\n",
       "      <td>...</td>\n",
       "      <td>...</td>\n",
       "      <td>...</td>\n",
       "      <td>...</td>\n",
       "      <td>...</td>\n",
       "      <td>...</td>\n",
       "      <td>...</td>\n",
       "      <td>...</td>\n",
       "      <td>...</td>\n",
       "      <td>...</td>\n",
       "      <td>...</td>\n",
       "    </tr>\n",
       "    <tr>\n",
       "      <th>1633</th>\n",
       "      <td>2022-04-07 17:50:00</td>\n",
       "      <td>437.71</td>\n",
       "      <td>540.70</td>\n",
       "      <td>2022-04-07</td>\n",
       "      <td>2022-04-07</td>\n",
       "      <td>54.40</td>\n",
       "      <td>105.14</td>\n",
       "      <td>49.03</td>\n",
       "      <td>20.82</td>\n",
       "      <td>2022-04-07 19:50:00</td>\n",
       "      <td>...</td>\n",
       "      <td>23.84</td>\n",
       "      <td>11.03</td>\n",
       "      <td>13.52</td>\n",
       "      <td>2022-04-07 17:50:00</td>\n",
       "      <td>2022-04-07 17:30:38</td>\n",
       "      <td>1.25</td>\n",
       "      <td>3.09</td>\n",
       "      <td>303.85</td>\n",
       "      <td>144.41</td>\n",
       "      <td>0.090909</td>\n",
       "    </tr>\n",
       "    <tr>\n",
       "      <th>1634</th>\n",
       "      <td>2022-04-07 18:50:00</td>\n",
       "      <td>494.23</td>\n",
       "      <td>557.21</td>\n",
       "      <td>2022-04-07</td>\n",
       "      <td>2022-04-07</td>\n",
       "      <td>54.40</td>\n",
       "      <td>105.14</td>\n",
       "      <td>49.03</td>\n",
       "      <td>20.82</td>\n",
       "      <td>2022-04-07 20:50:00</td>\n",
       "      <td>...</td>\n",
       "      <td>25.36</td>\n",
       "      <td>11.37</td>\n",
       "      <td>12.85</td>\n",
       "      <td>2022-04-07 18:50:00</td>\n",
       "      <td>2022-04-07 17:30:38</td>\n",
       "      <td>1.25</td>\n",
       "      <td>3.09</td>\n",
       "      <td>303.85</td>\n",
       "      <td>144.41</td>\n",
       "      <td>0.090909</td>\n",
       "    </tr>\n",
       "    <tr>\n",
       "      <th>1635</th>\n",
       "      <td>2022-04-07 19:50:00</td>\n",
       "      <td>495.47</td>\n",
       "      <td>557.68</td>\n",
       "      <td>2022-04-07</td>\n",
       "      <td>2022-04-07</td>\n",
       "      <td>54.40</td>\n",
       "      <td>105.14</td>\n",
       "      <td>49.03</td>\n",
       "      <td>20.82</td>\n",
       "      <td>2022-04-07 21:50:00</td>\n",
       "      <td>...</td>\n",
       "      <td>25.40</td>\n",
       "      <td>11.37</td>\n",
       "      <td>11.42</td>\n",
       "      <td>2022-04-07 19:50:00</td>\n",
       "      <td>2022-04-07 17:30:38</td>\n",
       "      <td>1.25</td>\n",
       "      <td>3.09</td>\n",
       "      <td>303.85</td>\n",
       "      <td>144.41</td>\n",
       "      <td>0.090909</td>\n",
       "    </tr>\n",
       "    <tr>\n",
       "      <th>1636</th>\n",
       "      <td>2022-04-07 20:50:00</td>\n",
       "      <td>494.41</td>\n",
       "      <td>572.00</td>\n",
       "      <td>2022-04-07</td>\n",
       "      <td>2022-04-07</td>\n",
       "      <td>54.40</td>\n",
       "      <td>105.14</td>\n",
       "      <td>49.03</td>\n",
       "      <td>20.82</td>\n",
       "      <td>2022-04-07 22:50:00</td>\n",
       "      <td>...</td>\n",
       "      <td>25.58</td>\n",
       "      <td>11.37</td>\n",
       "      <td>11.55</td>\n",
       "      <td>2022-04-07 20:50:00</td>\n",
       "      <td>2022-04-07 20:30:17</td>\n",
       "      <td>1.25</td>\n",
       "      <td>3.09</td>\n",
       "      <td>313.31</td>\n",
       "      <td>172.28</td>\n",
       "      <td>0.090909</td>\n",
       "    </tr>\n",
       "    <tr>\n",
       "      <th>1637</th>\n",
       "      <td>2022-04-07 21:50:00</td>\n",
       "      <td>495.03</td>\n",
       "      <td>571.61</td>\n",
       "      <td>2022-04-07</td>\n",
       "      <td>2022-04-07</td>\n",
       "      <td>54.40</td>\n",
       "      <td>105.14</td>\n",
       "      <td>49.03</td>\n",
       "      <td>20.82</td>\n",
       "      <td>2022-04-07 23:50:00</td>\n",
       "      <td>...</td>\n",
       "      <td>24.82</td>\n",
       "      <td>11.03</td>\n",
       "      <td>11.55</td>\n",
       "      <td>2022-04-07 21:50:00</td>\n",
       "      <td>2022-04-07 20:30:17</td>\n",
       "      <td>1.25</td>\n",
       "      <td>3.09</td>\n",
       "      <td>313.31</td>\n",
       "      <td>172.28</td>\n",
       "      <td>0.090909</td>\n",
       "    </tr>\n",
       "  </tbody>\n",
       "</table>\n",
       "<p>1638 rows × 21 columns</p>\n",
       "</div>"
      ],
      "text/plain": [
       "                  Time_x  Temperature of system 1  Temperature of system 2  \\\n",
       "0    2022-01-25 02:50:00                  1273.86                   938.16   \n",
       "1    2022-01-25 03:50:00                  1273.51                   937.49   \n",
       "2    2022-01-25 04:50:00                  1272.84                   936.67   \n",
       "3    2022-01-25 05:50:00                  1404.50                   959.90   \n",
       "4    2022-01-25 06:50:00                  1406.01                   960.29   \n",
       "...                  ...                      ...                      ...   \n",
       "1633 2022-04-07 17:50:00                   437.71                   540.70   \n",
       "1634 2022-04-07 18:50:00                   494.23                   557.21   \n",
       "1635 2022-04-07 19:50:00                   495.47                   557.68   \n",
       "1636 2022-04-07 20:50:00                   494.41                   572.00   \n",
       "1637 2022-04-07 21:50:00                   495.03                   571.61   \n",
       "\n",
       "           Date     Time_y  Mineral parameter 1  Mineral parameter 2  \\\n",
       "0    2022-01-25 2022-01-25                55.26               108.03   \n",
       "1    2022-01-25 2022-01-25                55.26               108.03   \n",
       "2    2022-01-25 2022-01-25                55.26               108.03   \n",
       "3    2022-01-25 2022-01-25                55.26               108.03   \n",
       "4    2022-01-25 2022-01-25                55.26               108.03   \n",
       "...         ...        ...                  ...                  ...   \n",
       "1633 2022-04-07 2022-04-07                54.40               105.14   \n",
       "1634 2022-04-07 2022-04-07                54.40               105.14   \n",
       "1635 2022-04-07 2022-04-07                54.40               105.14   \n",
       "1636 2022-04-07 2022-04-07                54.40               105.14   \n",
       "1637 2022-04-07 2022-04-07                54.40               105.14   \n",
       "\n",
       "      Mineral parameter 3  Mineral parameter 4              Time_1  ...  \\\n",
       "0                   43.29                20.92 2022-01-25 04:50:00  ...   \n",
       "1                   43.29                20.92 2022-01-25 05:50:00  ...   \n",
       "2                   43.29                20.92 2022-01-25 06:50:00  ...   \n",
       "3                   43.29                20.92 2022-01-25 07:50:00  ...   \n",
       "4                   43.29                20.92 2022-01-25 08:50:00  ...   \n",
       "...                   ...                  ...                 ...  ...   \n",
       "1633                49.03                20.82 2022-04-07 19:50:00  ...   \n",
       "1634                49.03                20.82 2022-04-07 20:50:00  ...   \n",
       "1635                49.03                20.82 2022-04-07 21:50:00  ...   \n",
       "1636                49.03                20.82 2022-04-07 22:50:00  ...   \n",
       "1637                49.03                20.82 2022-04-07 23:50:00  ...   \n",
       "\n",
       "      Index B  Index C  Index D                date              Time_2  \\\n",
       "0       21.42    10.68    17.63 2022-01-25 02:50:00 2022-01-25 02:30:11   \n",
       "1       21.20    10.16    16.92 2022-01-25 03:50:00 2022-01-25 02:30:11   \n",
       "2       20.75    10.16    15.75 2022-01-25 04:50:00 2022-01-25 02:30:11   \n",
       "3       23.30    11.55    15.84 2022-01-25 05:50:00 2022-01-25 05:30:13   \n",
       "4       23.48    11.89    14.91 2022-01-25 06:50:00 2022-01-25 05:30:13   \n",
       "...       ...      ...      ...                 ...                 ...   \n",
       "1633    23.84    11.03    13.52 2022-04-07 17:50:00 2022-04-07 17:30:38   \n",
       "1634    25.36    11.37    12.85 2022-04-07 18:50:00 2022-04-07 17:30:38   \n",
       "1635    25.40    11.37    11.42 2022-04-07 19:50:00 2022-04-07 17:30:38   \n",
       "1636    25.58    11.37    11.55 2022-04-07 20:50:00 2022-04-07 20:30:17   \n",
       "1637    24.82    11.03    11.55 2022-04-07 21:50:00 2022-04-07 20:30:17   \n",
       "\n",
       "     Process parameter 1  Process parameter 2  Process parameter 3  \\\n",
       "0                   1.25                 3.09               226.16   \n",
       "1                   1.25                 3.09               226.16   \n",
       "2                   1.25                 3.09               226.16   \n",
       "3                   1.25                 3.09               242.44   \n",
       "4                   1.25                 3.09               242.44   \n",
       "...                  ...                  ...                  ...   \n",
       "1633                1.25                 3.09               303.85   \n",
       "1634                1.25                 3.09               303.85   \n",
       "1635                1.25                 3.09               303.85   \n",
       "1636                1.25                 3.09               313.31   \n",
       "1637                1.25                 3.09               313.31   \n",
       "\n",
       "      Process parameter 4  Passrate  \n",
       "0                  181.23  0.227273  \n",
       "1                  181.23  0.227273  \n",
       "2                  181.23  0.227273  \n",
       "3                  164.45  0.227273  \n",
       "4                  164.45  0.227273  \n",
       "...                   ...       ...  \n",
       "1633               144.41  0.090909  \n",
       "1634               144.41  0.090909  \n",
       "1635               144.41  0.090909  \n",
       "1636               172.28  0.090909  \n",
       "1637               172.28  0.090909  \n",
       "\n",
       "[1638 rows x 21 columns]"
      ]
     },
     "execution_count": 6,
     "metadata": {},
     "output_type": "execute_result"
    }
   ],
   "source": [
    "res_count = pd.DataFrame()\n",
    "res_count['Passrate_bool'] = (res_['Index A'] > 77.78) & (res_['Index A'] < 80.33) & (res_['Index B'] < 24.15) & (\n",
    "            res_['Index C'] < 17.15) & (res_['Index D'] < 15.62)\n",
    "res_count['Date'] = res_['Date']\n",
    "grouped = res_count.groupby(res_count['Date']).mean()\n",
    "res = pd.DataFrame()\n",
    "res = pd.merge(res_, grouped, on='Date')\n",
    "res = res.rename( columns={'Passrate_bool': 'Passrate'})\n",
    "res"
   ]
  },
  {
   "cell_type": "code",
   "execution_count": 28,
   "metadata": {
    "pycharm": {
     "name": "#%%\n"
    }
   },
   "outputs": [],
   "source": [
    "x = np.array([res['Temperature of system 1'], res['Temperature of system 2'],\n",
    "            res['Mineral parameter 1'], res['Mineral parameter 2'], \n",
    "            res['Mineral parameter 3'], res['Mineral parameter 4'],\n",
    "            res['Process parameter 1'], res['Process parameter 3'], \n",
    "            res['Process parameter 4']])\n",
    "y = np.array(res['Passrate'])\n",
    "y_ = np.array([res['Index A'], res['Index B'], res['Index C'], res['Index D']])"
   ]
  },
  {
   "cell_type": "code",
   "execution_count": 29,
   "metadata": {
    "pycharm": {
     "name": "#%%\n"
    }
   },
   "outputs": [],
   "source": [
    "# 划分训练集和测试集\n",
    "seed = 9\n",
    "test_size = 0.1\n",
    "x_train, x_test, y_train, y_test = train_test_split(x.T, y, test_size=test_size, random_state=seed)"
   ]
  },
  {
   "cell_type": "code",
   "execution_count": null,
   "metadata": {
    "pycharm": {
     "name": "#%%\n"
    }
   },
   "outputs": [],
   "source": [
    "# xgboost模型\n",
    "model_xgb = XGBRegressor()\n",
    "model_xgb.fit(x_train, y_train)\n",
    "y_pred_xgb = model_xgb.predict(x_test)\n",
    "print(\"xgboost模型均方误差:\", mean_squared_error(y_true=y_test, y_pred=y_pred_xgb))\n",
    "print(\"xgboost预测评价:\", model_xgb.score(X=x_test, y=y_test))"
   ]
  },
  {
   "cell_type": "code",
   "execution_count": 30,
   "metadata": {
    "pycharm": {
     "name": "#%%\n"
    }
   },
   "outputs": [
    {
     "name": "stdout",
     "output_type": "stream",
     "text": [
      "RandomForest模型均方误差: 0.000687429464990826\n",
      "RandomForest预测评价: 0.9862717192568429\n"
     ]
    }
   ],
   "source": [
    "# RandomForest模型\n",
    "model_forest = RandomForestRegressor()\n",
    "model_forest.fit(x_train, y_train)\n",
    "y_pred_forest = model_forest.predict(x_test)\n",
    "print(\"RandomForest模型均方误差:\", mean_squared_error(y_true=y_test, y_pred=y_pred_forest))\n",
    "print(\"RandomForest预测评价:\", model_forest.score(X=x_test, y=y_test))"
   ]
  },
  {
   "cell_type": "code",
   "execution_count": null,
   "metadata": {
    "pycharm": {
     "name": "#%%\n"
    }
   },
   "outputs": [],
   "source": [
    "# DecisionTree模型\n",
    "model_tree = DecisionTreeRegressor()\n",
    "model_tree.fit(x_train, y_train)\n",
    "y_pred_tree = model_tree.predict(x_test)\n",
    "print(\"DecisionTree模型均方误差:\", mean_squared_error(y_true=y_test, y_pred=y_pred_tree))\n",
    "print(\"DecisionTree预测评价:\", model_tree.score(X=x_test, y=y_test))"
   ]
  },
  {
   "cell_type": "code",
   "execution_count": 31,
   "metadata": {
    "pycharm": {
     "name": "#%%\n"
    }
   },
   "outputs": [
    {
     "data": {
      "image/png": "[encoded data removed]",
      "text/plain": [
       "<Figure size 432x288 with 1 Axes>"
      ]
     },
     "metadata": {
      "needs_background": "light"
     },
     "output_type": "display_data"
    }
   ],
   "source": [
    "%matplotlib inline\n",
    "# 绘图\n",
    "fig = plt.figure()\n",
    "axe = plt.axes(projection='3d')\n",
    "x_line = np.array([])\n",
    "y_line = np.array([])\n",
    "z_line = np.array([])\n",
    "for temp1 in range(250, 1410, 10):\n",
    "    for temp2 in range(290, 1210, 10):\n",
    "        x_pred_1 = np.array([[temp1, temp2 , 56.71, 111.46, 46.67, 18.48, 1.25, 257.86, 157.46]])\n",
    "        x_line = np.append(x_line, temp1)\n",
    "        y_line = np.append(y_line, temp2)\n",
    "        z_line = np.append(z_line, model_forest.predict(x_pred_1))\n",
    "\n",
    "# x_vector = [[x, y, 56.27, 111.38, 47.52, 20.26, 1.25, 290.75, 160.56] for x, y in zip(x_line, y_line)]\n",
    "# x_pred_1 = np.array(x_vector, dtype='object')\n",
    "\n",
    "axe.scatter3D(x_line, y_line, z_line, cmap='Greens')\n",
    "axe.set_xlabel('Temperature of system 1')\n",
    "axe.set_ylabel('Temperature of system 2')\n",
    "axe.set_zlabel('Passrate')\n",
    "plt.show()"
   ]
  },
  {
   "cell_type": "code",
   "execution_count": 16,
   "metadata": {
    "pycharm": {
     "name": "#%%\n"
    }
   },
   "outputs": [
    {
     "data": {
      "text/plain": [
       "[]"
      ]
     },
     "execution_count": 16,
     "metadata": {},
     "output_type": "execute_result"
    },
    {
     "data": {
      "image/png": "[encoded data removed]",
      "text/plain": [
       "<Figure size 432x288 with 1 Axes>"
      ]
     },
     "metadata": {
      "needs_background": "light"
     },
     "output_type": "display_data"
    }
   ],
   "source": [
    "# 敏感度分析\n",
    "problem = {\n",
    "        'num_vars':9,\n",
    "        'names':['系统I温度', '系统II温度',\n",
    "                '其他因素', '原矿参数 2', \n",
    "                '原矿参数 3', '原矿参数 4',\n",
    "                '过程数据 1', '过程数据 3',\n",
    "                '过程数据 4'],\n",
    "        'bounds':[[100.00, 1000.00], [500.00, 1000.00], \n",
    "                [58.00, 70.00], [150.00, 160.00],\n",
    "                [80.00, 90.00], [60.00, 80.00],\n",
    "                [1.00, 2.00], [260.00, 280.00],\n",
    "                [140.00, 160.00]]\n",
    "}\n",
    "\n",
    "param_values = saltelli.sample(problem, 1024)\n",
    "y_out = model_forest.predict(param_values)\n",
    "Si = sobol.analyze(problem, y_out)\n",
    "Si_df = Si.to_df()\n",
    "barplot(Si_df[1][0:3])\n",
    "plt.title('RandomForest 敏感度分析')\n",
    "plt.plot()"
   ]
  },
  {
   "cell_type": "code",
   "execution_count": 8,
   "metadata": {
    "pycharm": {
     "name": "#%%\n"
    }
   },
   "outputs": [
    {
     "data": {
      "text/plain": [
       "Text(35.0, 0.5, 'Test')"
      ]
     },
     "execution_count": 8,
     "metadata": {},
     "output_type": "execute_result"
    },
    {
     "data": {
      "image/png": "[encoded data removed]",
      "text/plain": [
       "<Figure size 432x288 with 2 Axes>"
      ]
     },
     "metadata": {
      "needs_background": "light"
     },
     "output_type": "display_data"
    }
   ],
   "source": [
    "xlsx = pd.ExcelFile('./01.xlsx')\n",
    "Datas_1 = pd.read_excel(xlsx, sheet_name='y_test')\n",
    "Datas_2 = pd.read_excel(xlsx, sheet_name='y_pred_train')\n",
    "y_true = Datas_1['y_true']\n",
    "y_pred = Datas_2['y_pred']\n",
    "matrix = confusion_matrix(y_true=y_true, y_pred=y_pred, labels=[1, 0])\n",
    "df = pd.DataFrame(matrix, index=['True', 'False'], columns=['True', 'False'])\n",
    "hp = sns.heatmap(df,annot=True, fmt='.20g')\n",
    "hp.set_xlabel('Predict')\n",
    "hp.set_ylabel('Test')"
   ]
  }
 ],
 "metadata": {
  "interpreter": {
   "hash": "ed225720166559e7176d3793db16a2fd8d295f725007103b21ac3099d2a89ee8"
  },
  "kernelspec": {
   "display_name": "Python 3.9.7 ('base')",
   "language": "python",
   "name": "python3"
  },
  "language_info": {
   "codemirror_mode": {
    "name": "ipython",
    "version": 3
   },
   "file_extension": ".py",
   "mimetype": "text/x-python",
   "name": "python",
   "nbconvert_exporter": "python",
   "pygments_lexer": "ipython3",
   "version": "3.9.7"
  },
  "orig_nbformat": 4
 },
 "nbformat": 4,
 "nbformat_minor": 2
}